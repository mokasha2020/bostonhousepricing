{
 "cells": [
  {
   "cell_type": "code",
   "execution_count": null,
   "id": "5e40b506",
   "metadata": {},
   "outputs": [],
   "source": [
    "import pandas as pd\n",
    "import numpy as np\n",
    "import matplotlib.pyplot as plt\n",
    "%matplotlib inline"
   ]
  },
  {
   "cell_type": "code",
   "execution_count": null,
   "id": "4e85c6fc",
   "metadata": {},
   "outputs": [],
   "source": [
    "from sklearn.datasets import load_boston"
   ]
  },
  {
   "cell_type": "code",
   "execution_count": null,
   "id": "042a462b",
   "metadata": {},
   "outputs": [],
   "source": [
    "boston_df = load_boston()"
   ]
  },
  {
   "cell_type": "code",
   "execution_count": null,
   "id": "ac52607f",
   "metadata": {},
   "outputs": [],
   "source": [
    "boston_df.keys()"
   ]
  },
  {
   "cell_type": "code",
   "execution_count": null,
   "id": "a80bfcf3",
   "metadata": {},
   "outputs": [],
   "source": [
    "boston_df\n"
   ]
  },
  {
   "cell_type": "code",
   "execution_count": null,
   "id": "ca3cb96e",
   "metadata": {
    "scrolled": false
   },
   "outputs": [],
   "source": [
    "# Datataset description\n",
    "print(boston_df.DESCR)"
   ]
  },
  {
   "cell_type": "markdown",
   "id": "a2c44495",
   "metadata": {},
   "source": [
    "# Prepare the Dataset"
   ]
  },
  {
   "cell_type": "code",
   "execution_count": null,
   "id": "cf7b6418",
   "metadata": {},
   "outputs": [],
   "source": [
    "dataset = pd.DataFrame(boston_df.data)"
   ]
  },
  {
   "cell_type": "code",
   "execution_count": null,
   "id": "05947d0f",
   "metadata": {},
   "outputs": [],
   "source": [
    "dataset.head()"
   ]
  },
  {
   "cell_type": "code",
   "execution_count": null,
   "id": "5669d6bf",
   "metadata": {},
   "outputs": [],
   "source": [
    "dataset = pd.DataFrame(boston_df.data, columns = boston_df.feature_names)"
   ]
  },
  {
   "cell_type": "code",
   "execution_count": null,
   "id": "740b2863",
   "metadata": {},
   "outputs": [],
   "source": [
    "dataset.head()"
   ]
  },
  {
   "cell_type": "code",
   "execution_count": null,
   "id": "2174262c",
   "metadata": {},
   "outputs": [],
   "source": [
    "dataset['Price'] = boston_df.target"
   ]
  },
  {
   "cell_type": "code",
   "execution_count": null,
   "id": "dfb11d7a",
   "metadata": {},
   "outputs": [],
   "source": [
    "dataset.info()"
   ]
  },
  {
   "cell_type": "code",
   "execution_count": null,
   "id": "d0331a0e",
   "metadata": {},
   "outputs": [],
   "source": [
    "dataset.describe()"
   ]
  },
  {
   "cell_type": "code",
   "execution_count": null,
   "id": "49da6438",
   "metadata": {},
   "outputs": [],
   "source": [
    "# Check for missing value\n",
    "dataset.isnull()"
   ]
  },
  {
   "cell_type": "code",
   "execution_count": null,
   "id": "b6ec6c97",
   "metadata": {},
   "outputs": [],
   "source": [
    "dataset.isnull().sum()"
   ]
  },
  {
   "cell_type": "code",
   "execution_count": null,
   "id": "cebe4572",
   "metadata": {},
   "outputs": [],
   "source": [
    "# Exploratory data analysis\n",
    "\n",
    "#Correlation\n",
    "\n",
    "# We want to check for 2 things: multi colinearity which happens when 2 independant variables are highly correlated > 96%. In\n",
    "# this case, we want to drop of the variables and keep the other one. The other thing is we want to check if there is correlation\n",
    "# between the dependant valriable (price) and any independant variable\n",
    "\n",
    "dataset.corr()"
   ]
  },
  {
   "cell_type": "code",
   "execution_count": null,
   "id": "0aa593f2",
   "metadata": {},
   "outputs": [],
   "source": [
    "dataset.corr().sort_values(by='Price', ascending=False)"
   ]
  },
  {
   "cell_type": "code",
   "execution_count": null,
   "id": "f37f1541",
   "metadata": {},
   "outputs": [],
   "source": [
    "import seaborn as sns\n",
    "sns.pairplot(dataset)"
   ]
  },
  {
   "cell_type": "code",
   "execution_count": null,
   "id": "46ebce78",
   "metadata": {},
   "outputs": [],
   "source": [
    "# If you want to plot the graphs above one by one, you can use matplot library scatter plot function\n",
    "plt.scatter(dataset['CRIM'],dataset['Price'])\n",
    "plt.xlabel(\"Crime Rate\")\n",
    "plt.ylabel(\"Price\")\n",
    "\n",
    "\n",
    "\n"
   ]
  },
  {
   "cell_type": "code",
   "execution_count": null,
   "id": "a97ca576",
   "metadata": {},
   "outputs": [],
   "source": [
    "# Create a regression plot\n",
    "\n",
    "sns.regplot(x= \"RM\", y=\"Price\", data = dataset)"
   ]
  },
  {
   "cell_type": "code",
   "execution_count": null,
   "id": "4af05b38",
   "metadata": {},
   "outputs": [],
   "source": [
    "sns.regplot(x= \"LSTAT\", y=\"Price\", data = dataset)"
   ]
  },
  {
   "cell_type": "code",
   "execution_count": null,
   "id": "4909ba80",
   "metadata": {},
   "outputs": [],
   "source": [
    "sns.regplot(x= \"CHAS\", y=\"Price\", data = dataset)"
   ]
  },
  {
   "cell_type": "code",
   "execution_count": null,
   "id": "26a4b244",
   "metadata": {},
   "outputs": [],
   "source": [
    "sns.regplot(x= \"PTRATIO\", y=\"Price\", data = dataset)"
   ]
  },
  {
   "cell_type": "code",
   "execution_count": null,
   "id": "fde38a66",
   "metadata": {},
   "outputs": [],
   "source": [
    "## Independant and dependant features\n",
    "\n",
    "X= dataset.iloc[:,:-1]\n",
    "y= dataset.iloc[:,-1]"
   ]
  },
  {
   "cell_type": "code",
   "execution_count": null,
   "id": "68c43c22",
   "metadata": {},
   "outputs": [],
   "source": [
    "X.head()"
   ]
  },
  {
   "cell_type": "code",
   "execution_count": null,
   "id": "76761f81",
   "metadata": {},
   "outputs": [],
   "source": [
    "y.head()"
   ]
  },
  {
   "cell_type": "code",
   "execution_count": null,
   "id": "90e7031c",
   "metadata": {},
   "outputs": [],
   "source": [
    "## Train Test split\n",
    "\n",
    "from sklearn.model_selection import train_test_split\n",
    "X_train, X_test, y_train, y_test = train_test_split (X,y,test_size = 0.3, random_state=100)\n",
    "\n",
    "#random_state number splits the test and training datasets with a random manner.\n",
    "#In addition to what is explained here, it is important to remember that random_state value can have significant\n",
    "#effect on the quality of your model (by quality I essentially mean accuracy to predict). \n",
    "#For instance, If you take a certain dataset and train a regression model with it,\n",
    "#without specifying the random_state value, there is the potential that everytime, you will get\n",
    "#a different accuracy result for your trained model on the test data. So it is important to find\n",
    "#the best random_state value to provide you with the most accurate model. And then, that number\n",
    "#will be used to reproduce your model in another occasion such as another research experiment.\n",
    "#To do so, it is possible to split and train the model in a for-loop by assigning random numbers to random_state parameter.\n",
    "# https://stackoverflow.com/questions/28064634/random-state-pseudo-random-number-in-scikit-learn\n"
   ]
  },
  {
   "cell_type": "code",
   "execution_count": null,
   "id": "1db220a7",
   "metadata": {},
   "outputs": [],
   "source": [
    "X_train"
   ]
  },
  {
   "cell_type": "code",
   "execution_count": null,
   "id": "2853605e",
   "metadata": {},
   "outputs": [],
   "source": [
    "X_test"
   ]
  },
  {
   "cell_type": "code",
   "execution_count": null,
   "id": "b6d339b2",
   "metadata": {},
   "outputs": [],
   "source": [
    " ## Standardizing the dataset\n",
    "    \n",
    "from sklearn.preprocessing import StandardScaler\n",
    "scaler = StandardScaler()"
   ]
  },
  {
   "cell_type": "code",
   "execution_count": null,
   "id": "f1eb06bc",
   "metadata": {},
   "outputs": [],
   "source": [
    "X_train = scaler.fit_transform(X_train)"
   ]
  },
  {
   "cell_type": "code",
   "execution_count": null,
   "id": "420548ba",
   "metadata": {},
   "outputs": [],
   "source": [
    "# https://towardsdatascience.com/what-and-why-behind-fit-transform-vs-transform-in-scikit-learn-78f915cf96fe\n",
    "X_test = scaler.transform(X_test)"
   ]
  },
  {
   "cell_type": "code",
   "execution_count": null,
   "id": "5ddac93c",
   "metadata": {},
   "outputs": [],
   "source": [
    "#Model Training\n",
    "\n",
    "from sklearn.linear_model import LinearRegression"
   ]
  },
  {
   "cell_type": "code",
   "execution_count": null,
   "id": "ad8590f1",
   "metadata": {},
   "outputs": [],
   "source": [
    "regression=LinearRegression()"
   ]
  },
  {
   "cell_type": "code",
   "execution_count": null,
   "id": "57298033",
   "metadata": {},
   "outputs": [],
   "source": [
    "regression.fit(X_train,y_train)"
   ]
  },
  {
   "cell_type": "code",
   "execution_count": null,
   "id": "20989c65",
   "metadata": {},
   "outputs": [],
   "source": [
    "## print the coefficients and the intercept\n",
    "\n",
    "print (regression.coef_)"
   ]
  },
  {
   "cell_type": "code",
   "execution_count": null,
   "id": "bcf17857",
   "metadata": {},
   "outputs": [],
   "source": [
    "print(regression.intercept_)"
   ]
  },
  {
   "cell_type": "code",
   "execution_count": null,
   "id": "87f930bb",
   "metadata": {},
   "outputs": [],
   "source": [
    "## on which parameters the model has been trained?\n",
    "\n",
    "regression.get_params()"
   ]
  },
  {
   "cell_type": "code",
   "execution_count": null,
   "id": "dce5d0f2",
   "metadata": {},
   "outputs": [],
   "source": [
    "## Prediction with Test data\n",
    "\n",
    "reg_pred= regression.predict(X_test)"
   ]
  },
  {
   "cell_type": "code",
   "execution_count": null,
   "id": "92d19aed",
   "metadata": {},
   "outputs": [],
   "source": [
    "reg_pred"
   ]
  },
  {
   "cell_type": "code",
   "execution_count": null,
   "id": "0fe1c5ca",
   "metadata": {},
   "outputs": [],
   "source": [
    "# plot a scatter plot for the prediction\n",
    "\n",
    "plt.scatter(y_test, reg_pred)"
   ]
  },
  {
   "cell_type": "code",
   "execution_count": null,
   "id": "62c47e09",
   "metadata": {},
   "outputs": [],
   "source": [
    "residuals = y_test - reg_pred"
   ]
  },
  {
   "cell_type": "code",
   "execution_count": null,
   "id": "8e2539de",
   "metadata": {},
   "outputs": [],
   "source": [
    "residuals"
   ]
  },
  {
   "cell_type": "code",
   "execution_count": null,
   "id": "17b2969f",
   "metadata": {},
   "outputs": [],
   "source": [
    "sns.displot(residuals,kind=\"kde\")\n",
    "\n",
    "# we are getting a normal dist here so our model seems to be working well."
   ]
  },
  {
   "cell_type": "code",
   "execution_count": null,
   "id": "21cb90eb",
   "metadata": {},
   "outputs": [],
   "source": [
    "plt.scatter(reg_pred, residuals)\n",
    "\n",
    "# This is scattered and uniformly distributed. "
   ]
  },
  {
   "cell_type": "code",
   "execution_count": null,
   "id": "57e57f40",
   "metadata": {},
   "outputs": [],
   "source": [
    "# let's use some performance metrics\n",
    "\n",
    "from sklearn.metrics import mean_squared_error\n",
    "from sklearn.metrics import mean_absolute_error\n",
    "\n",
    "print(mean_absolute_error(y_test, reg_pred))\n",
    "print(mean_squared_error(y_test, reg_pred))\n",
    "print(np.sqrt(mean_squared_error(y_test, reg_pred))) # root mean square error"
   ]
  },
  {
   "cell_type": "code",
   "execution_count": null,
   "id": "56624ca4",
   "metadata": {},
   "outputs": [],
   "source": [
    "# R square and adjusted R square\n",
    "\n",
    "from sklearn.metrics import r2_score\n",
    "\n",
    "score = r2_score(y_test, reg_pred)\n",
    "\n"
   ]
  },
  {
   "cell_type": "code",
   "execution_count": null,
   "id": "9a17ee0d",
   "metadata": {},
   "outputs": [],
   "source": [
    "score\n",
    "\n",
    "# That's considered a good score."
   ]
  },
  {
   "cell_type": "code",
   "execution_count": null,
   "id": "b95a7209",
   "metadata": {},
   "outputs": [],
   "source": [
    "# How to improve the model:\n",
    "\n",
    "# change the random state when you train the model\n",
    "# choose a differen sklearn model. We used Linear regression here. "
   ]
  },
  {
   "cell_type": "code",
   "execution_count": null,
   "id": "ebcef0c5",
   "metadata": {},
   "outputs": [],
   "source": [
    "# new data prediction"
   ]
  },
  {
   "cell_type": "code",
   "execution_count": null,
   "id": "27012657",
   "metadata": {},
   "outputs": [],
   "source": [
    "boston_df.data[0].reshape(1,-1)"
   ]
  },
  {
   "cell_type": "code",
   "execution_count": null,
   "id": "6beb4930",
   "metadata": {},
   "outputs": [],
   "source": [
    "#Transformation of new data\n",
    "scaler.transform(boston_df.data[0].reshape(1,-1))"
   ]
  },
  {
   "cell_type": "code",
   "execution_count": null,
   "id": "51c6ac1a",
   "metadata": {},
   "outputs": [],
   "source": [
    "regression.predict(scaler.transform(boston_df.data[0].reshape(1,-1)))"
   ]
  },
  {
   "cell_type": "code",
   "execution_count": null,
   "id": "9383871e",
   "metadata": {},
   "outputs": [],
   "source": [
    "# Pickling the model files for deployment"
   ]
  },
  {
   "cell_type": "code",
   "execution_count": null,
   "id": "0d34323a",
   "metadata": {},
   "outputs": [],
   "source": [
    "import pickle"
   ]
  },
  {
   "cell_type": "code",
   "execution_count": null,
   "id": "86e5fcd3",
   "metadata": {},
   "outputs": [],
   "source": [
    "pickle.dump(regression,open('regmodel.pkl','wb'))"
   ]
  },
  {
   "cell_type": "code",
   "execution_count": null,
   "id": "0128a251",
   "metadata": {},
   "outputs": [],
   "source": [
    "# how to load it\n",
    "\n",
    "pickled_model = pickle.load(open('regmodel.pkl','rb'))"
   ]
  },
  {
   "cell_type": "code",
   "execution_count": null,
   "id": "f54ed724",
   "metadata": {},
   "outputs": [],
   "source": [
    "pickled_model.predict(scaler.transform(boston_df.data[0].reshape(1,-1)))"
   ]
  },
  {
   "cell_type": "code",
   "execution_count": null,
   "id": "0d6f9a82",
   "metadata": {},
   "outputs": [],
   "source": []
  }
 ],
 "metadata": {
  "kernelspec": {
   "display_name": "Python 3",
   "language": "python",
   "name": "python3"
  },
  "language_info": {
   "codemirror_mode": {
    "name": "ipython",
    "version": 3
   },
   "file_extension": ".py",
   "mimetype": "text/x-python",
   "name": "python",
   "nbconvert_exporter": "python",
   "pygments_lexer": "ipython3",
   "version": "3.11.4"
  },
  "vscode": {
   "interpreter": {
    "hash": "369f2c481f4da34e4445cda3fffd2e751bd1c4d706f27375911949ba6bb62e1c"
   }
  }
 },
 "nbformat": 4,
 "nbformat_minor": 5
}
